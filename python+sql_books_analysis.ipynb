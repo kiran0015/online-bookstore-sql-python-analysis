{
 "cells": [
  {
   "cell_type": "code",
   "execution_count": 3,
   "id": "bc32a030-1304-4310-a5a2-7990993d6258",
   "metadata": {},
   "outputs": [
    {
     "name": "stdout",
     "output_type": "stream",
     "text": [
      "Requirement already satisfied: pandas in c:\\users\\lenovo\\appdata\\local\\programs\\python\\python312\\lib\\site-packages (2.3.0)\n",
      "Requirement already satisfied: numpy>=1.26.0 in c:\\users\\lenovo\\appdata\\local\\programs\\python\\python312\\lib\\site-packages (from pandas) (2.3.1)\n",
      "Requirement already satisfied: python-dateutil>=2.8.2 in c:\\users\\lenovo\\appdata\\local\\programs\\python\\python312\\lib\\site-packages (from pandas) (2.9.0.post0)\n",
      "Requirement already satisfied: pytz>=2020.1 in c:\\users\\lenovo\\appdata\\local\\programs\\python\\python312\\lib\\site-packages (from pandas) (2025.2)\n",
      "Requirement already satisfied: tzdata>=2022.7 in c:\\users\\lenovo\\appdata\\local\\programs\\python\\python312\\lib\\site-packages (from pandas) (2025.2)\n",
      "Requirement already satisfied: six>=1.5 in c:\\users\\lenovo\\appdata\\local\\programs\\python\\python312\\lib\\site-packages (from python-dateutil>=2.8.2->pandas) (1.17.0)\n",
      "Note: you may need to restart the kernel to use updated packages.\n"
     ]
    }
   ],
   "source": [
    "pip install pandas"
   ]
  },
  {
   "cell_type": "code",
   "execution_count": 4,
   "id": "46d8a86d-62b2-4f28-a060-0921f446100c",
   "metadata": {},
   "outputs": [
    {
     "name": "stdout",
     "output_type": "stream",
     "text": [
      "Requirement already satisfied: matplotlib in c:\\users\\lenovo\\appdata\\local\\programs\\python\\python312\\lib\\site-packages (3.10.3)\n",
      "Requirement already satisfied: contourpy>=1.0.1 in c:\\users\\lenovo\\appdata\\local\\programs\\python\\python312\\lib\\site-packages (from matplotlib) (1.3.2)\n",
      "Requirement already satisfied: cycler>=0.10 in c:\\users\\lenovo\\appdata\\local\\programs\\python\\python312\\lib\\site-packages (from matplotlib) (0.12.1)\n",
      "Requirement already satisfied: fonttools>=4.22.0 in c:\\users\\lenovo\\appdata\\local\\programs\\python\\python312\\lib\\site-packages (from matplotlib) (4.58.4)\n",
      "Requirement already satisfied: kiwisolver>=1.3.1 in c:\\users\\lenovo\\appdata\\local\\programs\\python\\python312\\lib\\site-packages (from matplotlib) (1.4.8)\n",
      "Requirement already satisfied: numpy>=1.23 in c:\\users\\lenovo\\appdata\\local\\programs\\python\\python312\\lib\\site-packages (from matplotlib) (2.3.1)\n",
      "Requirement already satisfied: packaging>=20.0 in c:\\users\\lenovo\\appdata\\local\\programs\\python\\python312\\lib\\site-packages (from matplotlib) (25.0)\n",
      "Requirement already satisfied: pillow>=8 in c:\\users\\lenovo\\appdata\\local\\programs\\python\\python312\\lib\\site-packages (from matplotlib) (11.2.1)\n",
      "Requirement already satisfied: pyparsing>=2.3.1 in c:\\users\\lenovo\\appdata\\local\\programs\\python\\python312\\lib\\site-packages (from matplotlib) (3.2.3)\n",
      "Requirement already satisfied: python-dateutil>=2.7 in c:\\users\\lenovo\\appdata\\local\\programs\\python\\python312\\lib\\site-packages (from matplotlib) (2.9.0.post0)\n",
      "Requirement already satisfied: six>=1.5 in c:\\users\\lenovo\\appdata\\local\\programs\\python\\python312\\lib\\site-packages (from python-dateutil>=2.7->matplotlib) (1.17.0)\n",
      "Note: you may need to restart the kernel to use updated packages.\n"
     ]
    }
   ],
   "source": [
    "pip install matplotlib"
   ]
  },
  {
   "cell_type": "code",
   "execution_count": 5,
   "id": "f0f1ae1e-e507-4a07-8e44-8d94dcdfbae6",
   "metadata": {},
   "outputs": [
    {
     "name": "stdout",
     "output_type": "stream",
     "text": [
      "Requirement already satisfied: seaborn in c:\\users\\lenovo\\appdata\\local\\programs\\python\\python312\\lib\\site-packages (0.13.2)\n",
      "Requirement already satisfied: numpy!=1.24.0,>=1.20 in c:\\users\\lenovo\\appdata\\local\\programs\\python\\python312\\lib\\site-packages (from seaborn) (2.3.1)\n",
      "Requirement already satisfied: pandas>=1.2 in c:\\users\\lenovo\\appdata\\local\\programs\\python\\python312\\lib\\site-packages (from seaborn) (2.3.0)\n",
      "Requirement already satisfied: matplotlib!=3.6.1,>=3.4 in c:\\users\\lenovo\\appdata\\local\\programs\\python\\python312\\lib\\site-packages (from seaborn) (3.10.3)\n",
      "Requirement already satisfied: contourpy>=1.0.1 in c:\\users\\lenovo\\appdata\\local\\programs\\python\\python312\\lib\\site-packages (from matplotlib!=3.6.1,>=3.4->seaborn) (1.3.2)\n",
      "Requirement already satisfied: cycler>=0.10 in c:\\users\\lenovo\\appdata\\local\\programs\\python\\python312\\lib\\site-packages (from matplotlib!=3.6.1,>=3.4->seaborn) (0.12.1)\n",
      "Requirement already satisfied: fonttools>=4.22.0 in c:\\users\\lenovo\\appdata\\local\\programs\\python\\python312\\lib\\site-packages (from matplotlib!=3.6.1,>=3.4->seaborn) (4.58.4)\n",
      "Requirement already satisfied: kiwisolver>=1.3.1 in c:\\users\\lenovo\\appdata\\local\\programs\\python\\python312\\lib\\site-packages (from matplotlib!=3.6.1,>=3.4->seaborn) (1.4.8)\n",
      "Requirement already satisfied: packaging>=20.0 in c:\\users\\lenovo\\appdata\\local\\programs\\python\\python312\\lib\\site-packages (from matplotlib!=3.6.1,>=3.4->seaborn) (25.0)\n",
      "Requirement already satisfied: pillow>=8 in c:\\users\\lenovo\\appdata\\local\\programs\\python\\python312\\lib\\site-packages (from matplotlib!=3.6.1,>=3.4->seaborn) (11.2.1)\n",
      "Requirement already satisfied: pyparsing>=2.3.1 in c:\\users\\lenovo\\appdata\\local\\programs\\python\\python312\\lib\\site-packages (from matplotlib!=3.6.1,>=3.4->seaborn) (3.2.3)\n",
      "Requirement already satisfied: python-dateutil>=2.7 in c:\\users\\lenovo\\appdata\\local\\programs\\python\\python312\\lib\\site-packages (from matplotlib!=3.6.1,>=3.4->seaborn) (2.9.0.post0)\n",
      "Requirement already satisfied: pytz>=2020.1 in c:\\users\\lenovo\\appdata\\local\\programs\\python\\python312\\lib\\site-packages (from pandas>=1.2->seaborn) (2025.2)\n",
      "Requirement already satisfied: tzdata>=2022.7 in c:\\users\\lenovo\\appdata\\local\\programs\\python\\python312\\lib\\site-packages (from pandas>=1.2->seaborn) (2025.2)\n",
      "Requirement already satisfied: six>=1.5 in c:\\users\\lenovo\\appdata\\local\\programs\\python\\python312\\lib\\site-packages (from python-dateutil>=2.7->matplotlib!=3.6.1,>=3.4->seaborn) (1.17.0)\n",
      "Note: you may need to restart the kernel to use updated packages.\n"
     ]
    }
   ],
   "source": [
    "pip install seaborn"
   ]
  },
  {
   "cell_type": "code",
   "execution_count": 6,
   "id": "06ccac1d-9032-4eca-a46e-15717f895696",
   "metadata": {},
   "outputs": [
    {
     "name": "stdout",
     "output_type": "stream",
     "text": [
      "Requirement already satisfied: mysql-connector-python in c:\\users\\lenovo\\appdata\\local\\programs\\python\\python312\\lib\\site-packages (9.3.0)\n",
      "Note: you may need to restart the kernel to use updated packages.\n"
     ]
    }
   ],
   "source": [
    "pip install mysql-connector-python"
   ]
  },
  {
   "cell_type": "code",
   "execution_count": null,
   "id": "feb708a8-30de-4bc2-880d-e4622061f8ec",
   "metadata": {},
   "outputs": [],
   "source": [
    "import pandas as pd\n",
    "import mysql.connector\n",
    "import os\n",
    "import seaborn as sns\n",
    "import matplotlib.pyplot as plt"
   ]
  },
  {
   "cell_type": "code",
   "execution_count": null,
   "id": "82d770d2-9a09-4dd6-8808-5cba9fb04aa7",
   "metadata": {},
   "outputs": [],
   "source": [
    "df=pd.read_csv(\"C:/Users/lenovo/Downloads/online_book_dataset/books.csv\")"
   ]
  },
  {
   "cell_type": "code",
   "execution_count": null,
   "id": "4daa882b-9019-4408-8847-54b0fb2f658b",
   "metadata": {},
   "outputs": [],
   "source": [
    "# Data Cleaning :Convert rating text to numeric\n",
    "rating_map = {'One': 1, 'Two': 2, 'Three': 3, 'Four': 4, 'Five': 5}\n",
    "df['rating'] = df['rating'].map(rating_map)\n",
    "\n",
    "# Add binary column for stock availability\n",
    "df['in_stock'] = df['stock'].apply(lambda x: 1 if 'In stock' in x else 0)"
   ]
  },
  {
   "cell_type": "code",
   "execution_count": null,
   "id": "6e632d06-cd5f-4b3a-8d1f-20602929ee9b",
   "metadata": {},
   "outputs": [],
   "source": [
    "# Drop unnecessary column\n",
    "df_cleaned = df.drop(columns=['book_url'])"
   ]
  },
  {
   "cell_type": "code",
   "execution_count": null,
   "id": "b71063ee-2f60-4b31-9e9d-07aa512ac6e3",
   "metadata": {},
   "outputs": [],
   "source": [
    "# Replace NaN with None to handle SQL NULL\n",
    "df_cleaned =df_cleaned.where(pd.notnull(df_cleaned),None)\n",
    "    \n",
    "# Debugging: Check for NaN values\n",
    "print(df_cleaned.isnull().sum())"
   ]
  },
  {
   "cell_type": "markdown",
   "id": "02b86d79-40b7-414c-8e73-bd928d630597",
   "metadata": {},
   "source": [
    "# Exploratory Data Analysis (EDA)"
   ]
  },
  {
   "cell_type": "code",
   "execution_count": null,
   "id": "fffc12ea-48c3-42f7-b977-f0b67a3fa826",
   "metadata": {},
   "outputs": [],
   "source": [
    "# Total number of books in dataset\n",
    "print(df_cleaned.shape[0])"
   ]
  },
  {
   "cell_type": "code",
   "execution_count": null,
   "id": "2d1eca1d-8e92-475e-82b3-cca42fdb0cca",
   "metadata": {},
   "outputs": [],
   "source": [
    "# Total number of unique book categories\n",
    "print(df_cleaned['category'].nunique())\n"
   ]
  },
  {
   "cell_type": "code",
   "execution_count": null,
   "id": "82973578-89c6-4349-9638-34c58d4a7b81",
   "metadata": {},
   "outputs": [],
   "source": [
    "# Average price of all books\n",
    "print(df_cleaned['price'].mean())"
   ]
  },
  {
   "cell_type": "code",
   "execution_count": null,
   "id": "17f79d30-1082-4485-ba50-80b4a4867822",
   "metadata": {},
   "outputs": [],
   "source": [
    "# Count of books with a perfect 5-star rating\n",
    "print((df_cleaned['rating'] == 5).sum())"
   ]
  },
  {
   "cell_type": "code",
   "execution_count": null,
   "id": "8fb6ba48-7035-4f12-9f36-72fd9e467336",
   "metadata": {},
   "outputs": [],
   "source": [
    "# 10 most expensive books\n",
    "df_cleaned.sort_values(by='price', ascending=False).head(10)[['title', 'category', 'price']]\n"
   ]
  },
  {
   "cell_type": "code",
   "execution_count": null,
   "id": "c18adc33-b98e-4469-a748-39827c239882",
   "metadata": {},
   "outputs": [],
   "source": [
    "#Categories with Highest Median Price\n",
    "df_cleaned.groupby('category')['price'].median().sort_values(ascending=False).head(10)"
   ]
  },
  {
   "cell_type": "code",
   "execution_count": null,
   "id": "1292b431-2c30-4715-a23c-b7d7782653f8",
   "metadata": {},
   "outputs": [],
   "source": [
    "# Distribution of Book Ratings per Category\n",
    "df_cleaned.groupby(['category', 'rating']).size().unstack(fill_value=0).head(10)"
   ]
  },
  {
   "cell_type": "code",
   "execution_count": null,
   "id": "5d12dae9-d800-484e-83e3-47e943699592",
   "metadata": {},
   "outputs": [],
   "source": [
    "#Categories with Only High Ratings (4 or 5)\n",
    "high_rating_only = df_cleaned.groupby('category')['rating'].min()\n",
    "high_rating_only[high_rating_only >= 4]"
   ]
  },
  {
   "cell_type": "code",
   "execution_count": null,
   "id": "6c713b5a-6a6c-4bab-bbf7-e22c10ae11e5",
   "metadata": {},
   "outputs": [],
   "source": [
    "#Price Range Summary (Mean, Median, Min, Max, Std)\n",
    "df_cleaned['price'].agg(['mean', 'median', 'min', 'max', 'std'])"
   ]
  },
  {
   "cell_type": "code",
   "execution_count": null,
   "id": "069e4edb-07f7-4ab4-92d3-b8cbe4b8850c",
   "metadata": {},
   "outputs": [],
   "source": [
    "#Correlation Between Price and Rating\n",
    "df_cleaned[['price', 'rating']].corr().iloc[0, 1]\n"
   ]
  },
  {
   "cell_type": "code",
   "execution_count": null,
   "id": "18547397-7496-4814-8868-1dc43e9ec949",
   "metadata": {},
   "outputs": [],
   "source": [
    "#Rating Buckets (Low: 1–2, Mid: 3, High: 4–5)\n",
    "df_cleaned['rating_bucket'] = pd.cut(df['rating'], bins=[0, 2, 3, 5], labels=['Low', 'Mid', 'High'])\n",
    "df_cleaned['rating_bucket'].value_counts()"
   ]
  },
  {
   "cell_type": "code",
   "execution_count": null,
   "id": "6a462fc8-0ab6-40f8-acca-3552408e3b37",
   "metadata": {},
   "outputs": [],
   "source": [
    "df_cleaned['price_bucket'] = pd.cut(\n",
    "    df_cleaned['price'],\n",
    "    bins=[0, 20, 40, 60, float('inf')],\n",
    "    labels=['Below 20', '20-40', '41-60', 'Above 60']\n",
    ")\n"
   ]
  },
  {
   "cell_type": "code",
   "execution_count": null,
   "id": "7963c6a6-ed0f-431a-ac25-a61b55c9e17f",
   "metadata": {},
   "outputs": [],
   "source": [
    "df_cleaned['price_bucket'].value_counts().sort_index()\n"
   ]
  },
  {
   "cell_type": "code",
   "execution_count": null,
   "id": "46f1a1b0-0048-4e55-b9ce-228d378a9b85",
   "metadata": {},
   "outputs": [],
   "source": [
    "df_cleaned['rating_bucket'] = pd.cut(df_cleaned['rating'], bins=[0, 2, 3, 5], labels=['Low', 'Mid', 'High'])\n"
   ]
  },
  {
   "cell_type": "code",
   "execution_count": null,
   "id": "f9f75d62-cf28-4986-99fc-68081c9a35d0",
   "metadata": {},
   "outputs": [],
   "source": [
    "# Now create the crosstab\n",
    "pd.crosstab(df_cleaned['price_bucket'], df_cleaned['rating_bucket'])"
   ]
  },
  {
   "cell_type": "markdown",
   "id": "99ba6563-9ed6-477f-a402-67f872c33939",
   "metadata": {},
   "source": [
    "# Data Visualization"
   ]
  },
  {
   "cell_type": "code",
   "execution_count": null,
   "id": "fd646667-3d00-466b-ad02-30f9b6646ddd",
   "metadata": {},
   "outputs": [],
   "source": [
    "# Price bucket distribution\n",
    "avg_price_by_rating = df_cleaned.groupby('rating')['price'].mean().round(2)\n",
    "top_categories = df_cleaned['category'].value_counts().head(5)\n",
    "\n",
    "sns.countplot(x='price_bucket', data=df_cleaned, order=['Below 20', '20-40', '41-60', 'Above 60'])\n",
    "plt.title('Price Range Distribution')\n",
    "plt.xlabel('Price Range')\n",
    "plt.ylabel('Number of Books')\n",
    "plt.show()"
   ]
  },
  {
   "cell_type": "code",
   "execution_count": null,
   "id": "c6d76b9c-401a-47d6-b1cd-39d404e88003",
   "metadata": {},
   "outputs": [],
   "source": [
    "# Average price by rating\n",
    "sns.barplot(x=avg_price_by_rating.index, y=avg_price_by_rating.values)\n",
    "plt.title('Average Price by Rating')\n",
    "plt.xlabel('Rating')\n",
    "plt.ylabel('Average Price')\n",
    "plt.show()"
   ]
  },
  {
   "cell_type": "code",
   "execution_count": null,
   "id": "1c03e28b-06fd-4ebd-925c-bdc855cfc663",
   "metadata": {},
   "outputs": [],
   "source": [
    "# Top 5 book categories\n",
    "top_categories.plot(kind='bar', color='skyblue')\n",
    "plt.title('Top 5 Book Categories')\n",
    "plt.ylabel('Number of Books')\n",
    "plt.xticks(rotation=45)\n",
    "plt.show()"
   ]
  },
  {
   "cell_type": "code",
   "execution_count": null,
   "id": "0aeea5bd-a37c-4891-bfd2-59697df4f1a0",
   "metadata": {},
   "outputs": [],
   "source": [
    "# Rating Distribution – Horizontal with color\n",
    "\n",
    "rating_dist = df_cleaned['rating'].value_counts().sort_index().reset_index()\n",
    "rating_dist.columns = ['rating', 'count']\n",
    "\n",
    "plt.figure(figsize=(7, 4))\n",
    "sns.barplot(data=rating_dist, x='count', y='rating', palette='Blues_d')\n",
    "plt.title('Book Rating Distribution')\n",
    "plt.xlabel('Number of Books')\n",
    "plt.ylabel('Rating')\n",
    "plt.tight_layout()\n",
    "plt.show()"
   ]
  },
  {
   "cell_type": "code",
   "execution_count": null,
   "id": "6d0cc9bc-5bef-4476-bf64-cc5b2638dcc1",
   "metadata": {},
   "outputs": [],
   "source": [
    "# Price Distribution – Histogram with KDE\n",
    "plt.figure(figsize=(8, 4))\n",
    "sns.histplot(df_cleaned['price'], kde=True, color='teal', bins=30)\n",
    "plt.title('Price Distribution of Books')\n",
    "plt.xlabel('Price')\n",
    "plt.tight_layout()\n",
    "plt.show()"
   ]
  },
  {
   "cell_type": "code",
   "execution_count": null,
   "id": "e529b713-5268-43ad-9bb1-3a50dc43ba0a",
   "metadata": {},
   "outputs": [],
   "source": [
    "# Group by rating and count\n",
    "df_rating = df_cleaned['rating'].value_counts().sort_index(ascending=False).reset_index()\n",
    "df_rating.columns = ['rating', 'total']\n",
    "\n",
    "# Step 2: Plot\n",
    "plt.figure(figsize=(6, 4))\n",
    "sns.barplot(data=df_rating, x='rating', y='total', palette='Blues')\n",
    "plt.title('Distribution of Book Ratings')\n",
    "plt.tight_layout()\n",
    "plt.show()"
   ]
  },
  {
   "cell_type": "markdown",
   "id": "4b520302-a8cc-4c4d-9d46-149b370f9b72",
   "metadata": {},
   "source": [
    "# Connecting to MySQL"
   ]
  },
  {
   "cell_type": "code",
   "execution_count": null,
   "id": "83a38b1f-b1c4-406e-9eeb-b97c4c825c05",
   "metadata": {},
   "outputs": [],
   "source": [
    "# Function to map pandas dtype to SQL\n",
    "def get_sql_type(dtype):\n",
    "    if pd.api.types.is_integer_dtype(dtype):\n",
    "        return 'INT'\n",
    "    elif pd.api.types.is_float_dtype(dtype):\n",
    "        return 'FLOAT'\n",
    "    elif pd.api.types.is_bool_dtype(dtype):\n",
    "        return 'BOOLEAN'\n",
    "    elif pd.api.types.is_datetime64_any_dtype(dtype):\n",
    "        return 'DATETIME'\n",
    "    else:\n",
    "        return 'TEXT'"
   ]
  },
  {
   "cell_type": "code",
   "execution_count": null,
   "id": "6596fb66-f177-4aa6-9d34-6dcc0d1e37d5",
   "metadata": {},
   "outputs": [],
   "source": [
    "# Connect to MySQL\n",
    "conn = mysql.connector.connect(\n",
    "    host='localhost',\n",
    "    user='root',\n",
    "    password='Miock#0759',\n",
    "    database='books_analysis'\n",
    ")\n",
    "cursor = conn.cursor()"
   ]
  },
  {
   "cell_type": "code",
   "execution_count": null,
   "id": "714fb12b-5223-4be9-b8a4-0102d2ea6884",
   "metadata": {},
   "outputs": [],
   "source": [
    "# Create table\n",
    "table_name = 'online_books'\n",
    "\n",
    "# Generate column definitions based on DataFrame\n",
    "columns = ', '.join([\n",
    "    f'`{col}` {get_sql_type(df_cleaned[col].dtype)}'\n",
    "    for col in df_cleaned\n",
    "])\n",
    "\n",
    "# Build and execute the CREATE TABLE SQL query\n",
    "create_query = f'''\n",
    "CREATE TABLE IF NOT EXISTS `{table_name}` (\n",
    "    {columns}\n",
    ")\n",
    "'''\n",
    "cursor.execute(create_query)"
   ]
  },
  {
   "cell_type": "code",
   "execution_count": null,
   "id": "8fe87881-48cc-47a2-91ae-15eeda1f0166",
   "metadata": {},
   "outputs": [],
   "source": [
    "for _, row in df_cleaned.iterrows():\n",
    "    values = tuple(row)\n",
    "    placeholders = ', '.join(['%s'] * len(row))\n",
    "    insert_query = f'INSERT INTO `{table_name}` ({\", \".join(\"`\" + col + \"`\" for col in df_cleaned.columns)}) VALUES ({placeholders})'\n",
    "\n",
    "    cursor.execute(insert_query, values)"
   ]
  },
  {
   "cell_type": "code",
   "execution_count": null,
   "id": "ad6da6c3-4e02-4667-a176-da8db4bca6a6",
   "metadata": {},
   "outputs": [],
   "source": [
    "# Commit the transaction for the current CSV file\n",
    "conn.commit()"
   ]
  },
  {
   "cell_type": "code",
   "execution_count": null,
   "id": "566e1730-a9bc-4203-b8e5-a065e848b4fe",
   "metadata": {},
   "outputs": [],
   "source": [
    "# Close the connection\n",
    "conn.close()\n",
    "print(\"Cleaned data inserted into MySQL.\")"
   ]
  },
  {
   "cell_type": "code",
   "execution_count": null,
   "id": "9ee87dc3-b854-493f-ac3c-0fa807863284",
   "metadata": {},
   "outputs": [],
   "source": [
    "db=mysql.connector.connect(host=\"localhost\", username=\"root\", password=\"Miock#0759\", database=\"books_analysis\")\n",
    "cur=db.cursor()"
   ]
  },
  {
   "cell_type": "markdown",
   "id": "c44c6b31-5bcc-4302-b274-88c02f2616c5",
   "metadata": {},
   "source": [
    "# MySQL QUERIES"
   ]
  },
  {
   "cell_type": "code",
   "execution_count": null,
   "id": "41e02f67-1df0-4e98-815b-981fc4954cc5",
   "metadata": {},
   "outputs": [],
   "source": [
    "#1. List of all unique categories\n",
    "query =\"\"\"SELECT DISTINCT category FROM online_books\"\"\"\n",
    "cur.execute(query)\n",
    "data= cur.fetchall()\n",
    "data"
   ]
  },
  {
   "cell_type": "code",
   "execution_count": null,
   "id": "19df5c1a-9009-4b48-a679-6344cd61d2c6",
   "metadata": {},
   "outputs": [],
   "source": [
    "#2. Top 5 most common categories\n",
    "query =\"\"\"SELECT category, COUNT(*) AS total\n",
    "FROM online_books\n",
    "GROUP BY category\n",
    "ORDER BY total DESC\n",
    "LIMIT 5\"\"\"\n",
    "cur.execute(query)\n",
    "data= cur.fetchall()\n",
    "data"
   ]
  },
  {
   "cell_type": "code",
   "execution_count": null,
   "id": "f60b51fa-6842-4e89-90f4-b04a112eb12e",
   "metadata": {},
   "outputs": [],
   "source": [
    "#3. Average price by rating\n",
    "query =\"\"\"SELECT rating, ROUND(AVG(price), 2) AS avg_price\n",
    "FROM online_books\n",
    "GROUP BY rating\n",
    "ORDER BY rating\"\"\"\n",
    "cur.execute(query)\n",
    "data= cur.fetchall()\n",
    "data"
   ]
  },
  {
   "cell_type": "code",
   "execution_count": null,
   "id": "fa9ee3e5-0a1c-440d-a850-eb8290836582",
   "metadata": {},
   "outputs": [],
   "source": [
    "#4. Number of in-stock vs out-of-stock books\n",
    "query =\"\"\"SELECT stock, COUNT(*) AS total\n",
    "FROM online_books\n",
    "GROUP BY stock\"\"\"\n",
    "cur.execute(query)\n",
    "data= cur.fetchall()\n",
    "data\n"
   ]
  },
  {
   "cell_type": "code",
   "execution_count": null,
   "id": "6b26b0c0-3a7a-454f-b3d4-1ebed4ba2ccb",
   "metadata": {},
   "outputs": [],
   "source": [
    "#5. Top 3 most expensive books per category\n",
    "query =\"\"\"SELECT *\n",
    "FROM (\n",
    "    SELECT *,\n",
    "           ROW_NUMBER() OVER (PARTITION BY category ORDER BY price DESC) AS rnk\n",
    "    FROM online_books\n",
    ") ranked\n",
    "WHERE rnk <= 3\"\"\"\n",
    "cur.execute(query)\n",
    "data= cur.fetchall()\n",
    "data\n"
   ]
  },
  {
   "cell_type": "code",
   "execution_count": null,
   "id": "15bb885e-5955-4967-a61f-ce1a7e642706",
   "metadata": {},
   "outputs": [],
   "source": [
    "#6. Category with highest average price\n",
    "query =\"\"\"SELECT category, ROUND(AVG(price), 2) AS avg_price\n",
    "FROM online_books\n",
    "GROUP BY category\n",
    "ORDER BY avg_price DESC\n",
    "LIMIT 1\"\"\"\n",
    "cur.execute(query)\n",
    "data= cur.fetchall()\n",
    "data\n"
   ]
  },
  {
   "cell_type": "code",
   "execution_count": null,
   "id": "5cf5ad62-a4c7-4b42-b12f-54ca1fd1c280",
   "metadata": {},
   "outputs": [],
   "source": [
    "#7. Category with most 5-star rated books\n",
    "query =\"\"\"SELECT category, COUNT(*) AS five_star_books\n",
    "FROM online_books\n",
    "WHERE rating = 5\n",
    "GROUP BY category\n",
    "ORDER BY five_star_books DESC\n",
    "LIMIT 1\"\"\"\n",
    "cur.execute(query)\n",
    "data= cur.fetchall()\n",
    "data"
   ]
  },
  {
   "cell_type": "code",
   "execution_count": null,
   "id": "23e1ed4c-c932-472a-b0c1-ccaae9c76a86",
   "metadata": {},
   "outputs": [],
   "source": [
    "#8. Price distribution buckets\n",
    "query =\"\"\"SELECT\n",
    "  CASE\n",
    "    WHEN price < 20 THEN 'Below 20'\n",
    "    WHEN price BETWEEN 20 AND 40 THEN '20-40'\n",
    "    WHEN price BETWEEN 41 AND 60 THEN '41-60'\n",
    "    ELSE 'Above 60'\n",
    "  END AS price_range,\n",
    "  COUNT(*) AS total_books\n",
    "FROM online_books\n",
    "GROUP BY price_range\n",
    "ORDER BY price_range\"\"\"\n",
    "cur.execute(query)\n",
    "data= cur.fetchall()\n",
    "data\n"
   ]
  },
  {
   "cell_type": "code",
   "execution_count": null,
   "id": "40fb15c0-d072-4f57-83b0-78f318601dbc",
   "metadata": {},
   "outputs": [],
   "source": [
    "#9. Category with widest price range (Max - Min)\n",
    "query =\"\"\"SELECT category, MAX(price) - MIN(price) AS price_range\n",
    "FROM online_books\n",
    "GROUP BY category\n",
    "ORDER BY price_range DESC\n",
    "LIMIT 1\"\"\"\n",
    "cur.execute(query)\n",
    "data= cur.fetchall()\n",
    "data\n",
    "\n"
   ]
  },
  {
   "cell_type": "code",
   "execution_count": null,
   "id": "7f118d06-a682-4e2f-9127-0de15099a89b",
   "metadata": {},
   "outputs": [],
   "source": [
    "#10. Category with highest price volatility (standard deviation)\n",
    "query =\"\"\"SELECT category, ROUND(STDDEV(price), 2) AS price_stddev\n",
    "FROM online_books\n",
    "GROUP BY category\n",
    "ORDER BY price_stddev DESC\n",
    "LIMIT 1\"\"\"\n",
    "cur.execute(query)\n",
    "data= cur.fetchall()\n",
    "data\n",
    "\n"
   ]
  },
  {
   "cell_type": "code",
   "execution_count": null,
   "id": "14178bda-05be-42fa-8cc1-c57d7790e298",
   "metadata": {},
   "outputs": [],
   "source": [
    "#11. Percentage of books rated 4 stars or above\n",
    "query =\"\"\"SELECT \n",
    "  ROUND(SUM(CASE WHEN rating >= 4 THEN 1 ELSE 0 END) * 100.0 / COUNT(*), 2) AS high_rating_percentage\n",
    "FROM online_books\"\"\"\n",
    "cur.execute(query)\n",
    "data= cur.fetchall()\n",
    "data\n",
    "\n"
   ]
  },
  {
   "cell_type": "code",
   "execution_count": null,
   "id": "c4bffc89-5007-479a-bde4-a56c2478bb04",
   "metadata": {},
   "outputs": [],
   "source": [
    "#12. Average price: In-stock vs Out-of-stock\n",
    "query =\"\"\"SELECT stock, ROUND(AVG(price), 2) AS avg_price\n",
    "FROM online_books\n",
    "GROUP BY stock\"\"\"\n",
    "cur.execute(query)\n",
    "data= cur.fetchall()\n",
    "data"
   ]
  },
  {
   "cell_type": "code",
   "execution_count": null,
   "id": "1f5d72ec-4edd-4ea7-b4a1-499380eef0d1",
   "metadata": {},
   "outputs": [],
   "source": [
    "#13.Categories where all books are priced above the overall average\n",
    "query =\"\"\" SELECT category\n",
    "FROM online_books\n",
    "WHERE category NOT IN (\n",
    "    SELECT category\n",
    "    FROM online_books\n",
    "    WHERE price <= (\n",
    "        SELECT AVG(price) FROM online_books\n",
    "    )\n",
    ")\n",
    "GROUP BY category \"\"\"\n",
    "cur.execute(query)\n",
    "data= cur.fetchall()\n",
    "data\n",
    "\n"
   ]
  },
  {
   "cell_type": "code",
   "execution_count": null,
   "id": "fbf3d188-cc3b-46c2-8b20-3afeb07aa1ae",
   "metadata": {},
   "outputs": [],
   "source": [
    "#14. Top 5 categories with the most ‘High’ rated books (4–5)\n",
    "query =\"\"\"SELECT category, COUNT(*) AS high_rated_books\n",
    "FROM online_books\n",
    "WHERE rating IN (4, 5)\n",
    "GROUP BY category\n",
    "ORDER BY high_rated_books DESC\n",
    "LIMIT 5\"\"\"\n",
    "cur.execute(query)\n",
    "data= cur.fetchall()\n",
    "data\n"
   ]
  },
  {
   "cell_type": "code",
   "execution_count": null,
   "id": "27812bfb-20dd-424f-8899-e583d8700513",
   "metadata": {},
   "outputs": [],
   "source": [
    "#15. Average price per star rating per stock status\n",
    "query =\"\"\"SELECT rating, stock, ROUND(AVG(price), 2) AS avg_price\n",
    "FROM online_books\n",
    "GROUP BY rating, stock\n",
    "ORDER BY rating, stock\"\"\"\n",
    "cur.execute(query)\n",
    "data= cur.fetchall()\n",
    "data\n"
   ]
  },
  {
   "cell_type": "code",
   "execution_count": null,
   "id": "32fb50b5-2e4d-48eb-aae6-81cb3d9fb232",
   "metadata": {},
   "outputs": [],
   "source": [
    "#16. List books with price above category average\n",
    "query =\"\"\"SELECT b.*\n",
    "FROM online_books b\n",
    "JOIN (\n",
    "  SELECT category, AVG(price) AS avg_cat_price\n",
    "  FROM online_books\n",
    "  GROUP BY category\n",
    ") c_avg\n",
    "ON b.category = c_avg.category\n",
    "WHERE b.price > c_avg.avg_cat_price\n",
    "LIMIT 10\"\"\"\n",
    "cur.execute(query)\n",
    "data= cur.fetchall()\n",
    "data\n"
   ]
  },
  {
   "cell_type": "code",
   "execution_count": null,
   "id": "8c68882e-5397-4994-8821-ef13cbc47386",
   "metadata": {
    "scrolled": true
   },
   "outputs": [],
   "source": [
    "#17. Category-rating pairs with less than 3 books\n",
    "query =\"\"\"SELECT category, rating, COUNT(*) AS total\n",
    "FROM online_books\n",
    "GROUP BY category, rating\n",
    "HAVING COUNT(*) < 3 \n",
    "LIMIT 5\"\"\"\n",
    "cur.execute(query)\n",
    "data= cur.fetchall()\n",
    "data\n",
    "\n"
   ]
  },
  {
   "cell_type": "code",
   "execution_count": null,
   "id": "b915f47c-a712-4f9c-9920-e04fc304ecf0",
   "metadata": {},
   "outputs": [],
   "source": [
    "#18. Top-rated book (price-wise) per category\n",
    "query =\"\"\"SELECT *\n",
    "FROM online_books b\n",
    "WHERE price = (\n",
    "  SELECT MAX(price)\n",
    "  FROM online_books\n",
    "  WHERE category = b.category\n",
    ")\n",
    "ORDER BY category\n",
    "LIMIT 5\"\"\"\n",
    "cur.execute(query)\n",
    "data= cur.fetchall()\n",
    "data\n",
    "\n",
    "\n",
    "\n"
   ]
  },
  {
   "cell_type": "code",
   "execution_count": null,
   "id": "6074b91c-f584-41ff-85c6-19bc7fa1ef01",
   "metadata": {},
   "outputs": [],
   "source": []
  }
 ],
 "metadata": {
  "kernelspec": {
   "display_name": "Python 3 (ipykernel)",
   "language": "python",
   "name": "python3"
  },
  "language_info": {
   "codemirror_mode": {
    "name": "ipython",
    "version": 3
   },
   "file_extension": ".py",
   "mimetype": "text/x-python",
   "name": "python",
   "nbconvert_exporter": "python",
   "pygments_lexer": "ipython3",
   "version": "3.12.5"
  }
 },
 "nbformat": 4,
 "nbformat_minor": 5
}
